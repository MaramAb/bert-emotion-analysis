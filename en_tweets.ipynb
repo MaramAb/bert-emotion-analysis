{
  "nbformat": 4,
  "nbformat_minor": 0,
  "metadata": {
    "colab": {
      "name": "en_tweets.ipynb",
      "provenance": [],
      "collapsed_sections": [],
      "toc_visible": true
    },
    "kernelspec": {
      "name": "python3",
      "display_name": "Python 3"
    },
    "accelerator": "GPU"
  },
  "cells": [
    {
      "cell_type": "markdown",
      "metadata": {
        "id": "d0oRDEypL5AC"
      },
      "source": [
        "# Emotion Analysis from English Tweets Using BERT"
      ]
    },
    {
      "cell_type": "markdown",
      "metadata": {
        "id": "yV_hftjLMULw"
      },
      "source": [
        "### Workflow: \n",
        "1. Import Data\n",
        "2. Data preprocessing and downloading BERT\n",
        "3. Training and validation\n",
        "4. Saving the model\n",
        "\n",
        "Multiclass text classification with BERT and ktrain. "
      ]
    },
    {
      "cell_type": "code",
      "metadata": {
        "id": "mDYj0wIMIWpC"
      },
      "source": [
        "!pip install ktrain"
      ],
      "execution_count": null,
      "outputs": []
    },
    {
      "cell_type": "code",
      "metadata": {
        "id": "9QAtCGwDMn7R"
      },
      "source": [
        "import pandas as pd\n",
        "import numpy as np\n",
        "import matplotlib.pyplot as plt\n",
        "%matplotlib inline\n",
        "\n",
        "import ktrain\n",
        "from ktrain import text"
      ],
      "execution_count": null,
      "outputs": []
    },
    {
      "cell_type": "markdown",
      "metadata": {
        "id": "g04XYgX7SfSR"
      },
      "source": [
        "## 1. Import Data"
      ]
    },
    {
      "cell_type": "code",
      "metadata": {
        "id": "ok5pyfTuSJM9"
      },
      "source": [
        "data_train = pd.read_csv('/content/drive/MyDrive/tweets-dataset/en-train.csv')\n",
        "data_test = pd.read_csv('/content/drive/MyDrive/tweets-dataset/en-test.csv')\n",
        "data_val = pd.read_csv('/content/drive/MyDrive/tweets-dataset/en-dev.csv')\n",
        "\n",
        "# concat training and validation data\n",
        "data_train = pd.concat([data_train, data_val], ignore_index=True)\n",
        "\n",
        "\n",
        "class_names = ['joy', 'sadness', 'fear', 'anger']"
      ],
      "execution_count": null,
      "outputs": []
    },
    {
      "cell_type": "code",
      "metadata": {
        "id": "YscU3GjCf1mf"
      },
      "source": [
        "# set the hyperparameters\n",
        "maxlen = 64\n",
        "batch_size = 16\n",
        "lr = 5e-5\n",
        "epochs = 3"
      ],
      "execution_count": null,
      "outputs": []
    },
    {
      "cell_type": "markdown",
      "metadata": {
        "id": "8yV3SArISh7L"
      },
      "source": [
        "## 2. Data Preprocessing"
      ]
    },
    {
      "cell_type": "code",
      "metadata": {
        "id": "OTdunZ41Sd3D",
        "colab": {
          "base_uri": "https://localhost:8080/",
          "height": 510
        },
        "outputId": "cb2eadfc-a60e-4fbc-ada5-b8ee56ae2be8"
      },
      "source": [
        "(x_train,  y_train), (x_test, y_test), preproc = text.texts_from_df(data_train,\n",
        "                                                                'Text',\n",
        "                                                                label_columns=['Emotion'],\n",
        "                                                                val_df = data_test,\n",
        "                                                                max_features=35000,\n",
        "                                                                maxlen=maxlen,\n",
        "                                                                val_pct=0.125,\n",
        "                                                                preprocess_mode='bert',\n",
        "                                                                lang='en', is_regression=False)"
      ],
      "execution_count": null,
      "outputs": [
        {
          "output_type": "stream",
          "text": [
            "['anger', 'fear', 'joy', 'sadness']\n",
            "   anger  fear  joy  sadness\n",
            "0    0.0   0.0  1.0      0.0\n",
            "1    0.0   1.0  0.0      0.0\n",
            "2    0.0   0.0  0.0      1.0\n",
            "3    0.0   0.0  1.0      0.0\n",
            "4    1.0   0.0  0.0      0.0\n",
            "['anger', 'fear', 'joy', 'sadness']\n",
            "   anger  fear  joy  sadness\n",
            "0    0.0   0.0  1.0      0.0\n",
            "1    0.0   0.0  0.0      1.0\n",
            "2    0.0   0.0  1.0      0.0\n",
            "3    0.0   0.0  1.0      0.0\n",
            "4    0.0   1.0  0.0      0.0\n",
            "downloading pretrained BERT model (uncased_L-12_H-768_A-12.zip)...\n",
            "[██████████████████████████████████████████████████]\n",
            "extracting pretrained BERT model...\n",
            "done.\n",
            "\n",
            "cleanup downloaded zip...\n",
            "done.\n",
            "\n",
            "preprocessing train...\n",
            "language: en\n"
          ],
          "name": "stdout"
        },
        {
          "output_type": "display_data",
          "data": {
            "text/html": [
              "done."
            ],
            "text/plain": [
              "<IPython.core.display.HTML object>"
            ]
          },
          "metadata": {
            "tags": []
          }
        },
        {
          "output_type": "stream",
          "text": [
            "Is Multi-Label? False\n",
            "preprocessing test...\n",
            "language: en\n"
          ],
          "name": "stdout"
        },
        {
          "output_type": "display_data",
          "data": {
            "text/html": [
              "done."
            ],
            "text/plain": [
              "<IPython.core.display.HTML object>"
            ]
          },
          "metadata": {
            "tags": []
          }
        }
      ]
    },
    {
      "cell_type": "markdown",
      "metadata": {
        "id": "YsP7s2kYSoim"
      },
      "source": [
        "## 2. Training and validation"
      ]
    },
    {
      "cell_type": "code",
      "metadata": {
        "id": "Be8sQvJ6Sr7e",
        "colab": {
          "base_uri": "https://localhost:8080/"
        },
        "outputId": "832f3eac-4093-4cf9-da5e-b2af81960cfd"
      },
      "source": [
        "model = text.text_classifier('bert', train_data=(x_train, y_train), preproc=preproc)\n",
        "\n",
        "learner = ktrain.get_learner(model, train_data=(x_train, y_train), \n",
        "                             val_data=(x_test, y_test),\n",
        "                             batch_size=batch_size)"
      ],
      "execution_count": null,
      "outputs": [
        {
          "output_type": "stream",
          "text": [
            "Is Multi-Label? False\n",
            "maxlen is 64\n",
            "done.\n"
          ],
          "name": "stdout"
        }
      ]
    },
    {
      "cell_type": "code",
      "metadata": {
        "id": "rAti8Y1TSy2k",
        "colab": {
          "base_uri": "https://localhost:8080/"
        },
        "outputId": "02658725-3e0d-42dd-a53e-b4fc107738c0"
      },
      "source": [
        "# train the model\n",
        "history = learner.fit_onecycle(lr, epochs)"
      ],
      "execution_count": null,
      "outputs": [
        {
          "output_type": "stream",
          "text": [
            "\n",
            "\n",
            "begin training using onecycle policy with max lr of 5e-05...\n",
            "Epoch 1/3\n",
            "555/555 [==============================] - 274s 458ms/step - loss: 0.8151 - accuracy: 0.6704 - val_loss: 0.4630 - val_accuracy: 0.8342\n",
            "Epoch 2/3\n",
            "555/555 [==============================] - 254s 457ms/step - loss: 0.4070 - accuracy: 0.8629 - val_loss: 0.4313 - val_accuracy: 0.8445\n",
            "Epoch 3/3\n",
            "555/555 [==============================] - 254s 457ms/step - loss: 0.2201 - accuracy: 0.9298 - val_loss: 0.4622 - val_accuracy: 0.8558\n"
          ],
          "name": "stdout"
        }
      ]
    },
    {
      "cell_type": "code",
      "metadata": {
        "id": "N9I0d7g-S6x8",
        "colab": {
          "base_uri": "https://localhost:8080/"
        },
        "outputId": "4069fd94-b910-403a-f223-9cbb6ac0aaa1"
      },
      "source": [
        "# validate\n",
        "learner.validate(val_data=(x_test, y_test), class_names=class_names)"
      ],
      "execution_count": null,
      "outputs": [
        {
          "output_type": "stream",
          "text": [
            "              precision    recall  f1-score   support\n",
            "\n",
            "         joy       0.89      0.78      0.83       618\n",
            "     sadness       0.80      0.89      0.84       605\n",
            "        fear       0.91      0.90      0.91       592\n",
            "       anger       0.82      0.85      0.84       404\n",
            "\n",
            "    accuracy                           0.86      2219\n",
            "   macro avg       0.86      0.86      0.85      2219\n",
            "weighted avg       0.86      0.86      0.86      2219\n",
            "\n"
          ],
          "name": "stdout"
        },
        {
          "output_type": "execute_result",
          "data": {
            "text/plain": [
              "array([[484,  74,  19,  41],\n",
              "       [ 28, 537,  21,  19],\n",
              "       [ 14,  30, 534,  14],\n",
              "       [ 17,  29,  14, 344]])"
            ]
          },
          "metadata": {
            "tags": []
          },
          "execution_count": 8
        }
      ]
    },
    {
      "cell_type": "markdown",
      "metadata": {
        "id": "AkMisxJSTBmJ"
      },
      "source": [
        "Testing with other inputs"
      ]
    },
    {
      "cell_type": "code",
      "metadata": {
        "id": "iDDR8KYaTBmX"
      },
      "source": [
        "predictor = ktrain.get_predictor(learner.model, preproc)"
      ],
      "execution_count": null,
      "outputs": []
    },
    {
      "cell_type": "code",
      "metadata": {
        "id": "cmSZchlGTBmY",
        "colab": {
          "base_uri": "https://localhost:8080/"
        },
        "outputId": "7700cd25-3508-48f5-8517-bf0f0d850cfe"
      },
      "source": [
        "message = 'I can\\'t wait to watch the new movie'\n",
        "prediction = predictor.predict(message)\n",
        "print(' Message: {}\\n Predicted: {}'.format(message, prediction))"
      ],
      "execution_count": null,
      "outputs": [
        {
          "output_type": "stream",
          "text": [
            " Message: I can't wait to watch the new movie\n",
            " Predicted: joy\n"
          ],
          "name": "stdout"
        }
      ]
    },
    {
      "cell_type": "markdown",
      "metadata": {
        "id": "4hq1oPHbTKbC"
      },
      "source": [
        "## 4. Saving the model\n",
        "To reload the predictor use: ktrain.load_predictor\n"
      ]
    },
    {
      "cell_type": "code",
      "metadata": {
        "id": "3Hq0LYnKTKbE"
      },
      "source": [
        "predictor.save(\"/content/drive/MyDrive/models/en-bert-model\")"
      ],
      "execution_count": null,
      "outputs": []
    }
  ]
}
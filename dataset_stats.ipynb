{
  "nbformat": 4,
  "nbformat_minor": 0,
  "metadata": {
    "colab": {
      "name": "Dataset.ipynb",
      "provenance": [],
      "toc_visible": true
    },
    "kernelspec": {
      "name": "python3",
      "display_name": "Python 3"
    }
  },
  "cells": [
    {
      "cell_type": "markdown",
      "metadata": {
        "id": "i6YPgJP7U8vQ"
      },
      "source": [
        "# Statistics about the datasets"
      ]
    },
    {
      "cell_type": "code",
      "metadata": {
        "id": "FQ4cLVacVMg7"
      },
      "source": [
        "import pandas as pd\n",
        "import numpy as np"
      ],
      "execution_count": null,
      "outputs": []
    },
    {
      "cell_type": "markdown",
      "metadata": {
        "id": "OgWC8dwTVE9E"
      },
      "source": [
        "## **1. Arabic**"
      ]
    },
    {
      "cell_type": "code",
      "metadata": {
        "id": "HQ8jgF_PUj-i"
      },
      "source": [
        "ar_train = pd.read_csv('/content/drive/MyDrive/tweets-dataset/dataset/ar-train.csv')\n",
        "ar_dev = pd.read_csv('/content/drive/MyDrive/tweets-dataset/dataset/ar-dev.csv')\n",
        "ar_test = pd.read_csv('/content/drive/MyDrive/tweets-dataset/dataset/ar-test.csv')\n"
      ],
      "execution_count": null,
      "outputs": []
    },
    {
      "cell_type": "code",
      "metadata": {
        "id": "Z20-GDDsIb3Q",
        "colab": {
          "base_uri": "https://localhost:8080/"
        },
        "outputId": "00f95513-77d2-4020-8c04-b3b0e504633c"
      },
      "source": [
        "data_names = ['Trainin data', 'Test data', 'Validation data']\n",
        "total = 0\n",
        "for i, d in enumerate([ar_train, ar_test, ar_dev]):\n",
        "    print(data_names[i])\n",
        "    print(d.Emotion.value_counts())\n",
        "    print('Total: {}'.format(len(d['Text'])))\n",
        "    print('\\n --------------------- \\n')\n",
        "    total += len(d)\n",
        "print('Total: {}'.format(total))\n",
        "print('\\n --------------------- \\n')"
      ],
      "execution_count": null,
      "outputs": [
        {
          "output_type": "stream",
          "text": [
            "Trainin data\n",
            "anger      980\n",
            "joy        980\n",
            "fear       560\n",
            "sadness    556\n",
            "Name: Emotion, dtype: int64\n",
            "Total: 3076\n",
            "\n",
            " --------------------- \n",
            "\n",
            "Test data\n",
            "joy        280\n",
            "anger      280\n",
            "fear       160\n",
            "sadness    160\n",
            "Name: Emotion, dtype: int64\n",
            "Total: 880\n",
            "\n",
            " --------------------- \n",
            "\n",
            "Validation data\n",
            "joy        140\n",
            "anger      140\n",
            "fear        80\n",
            "sadness     79\n",
            "Name: Emotion, dtype: int64\n",
            "Total: 439\n",
            "\n",
            " --------------------- \n",
            "\n",
            "Total: 4395\n",
            "\n",
            " --------------------- \n",
            "\n"
          ],
          "name": "stdout"
        }
      ]
    },
    {
      "cell_type": "markdown",
      "metadata": {
        "id": "BzRpayhEsqhI"
      },
      "source": [
        "## **2. English**"
      ]
    },
    {
      "cell_type": "code",
      "metadata": {
        "id": "X-kOSxT7sqhV"
      },
      "source": [
        "en_train = pd.read_csv('/content/drive/MyDrive/tweets-dataset/dataset/en-train.csv')\n",
        "en_dev = pd.read_csv('/content/drive/MyDrive/tweets-dataset/dataset/en-dev.csv')\n",
        "en_test = pd.read_csv('/content/drive/MyDrive/tweets-dataset/dataset/en-test.csv')\n"
      ],
      "execution_count": null,
      "outputs": []
    },
    {
      "cell_type": "code",
      "metadata": {
        "colab": {
          "base_uri": "https://localhost:8080/"
        },
        "id": "hBfOR94NQFhI",
        "outputId": "0c449d96-23aa-4d3e-fcd2-1f6381652d99"
      },
      "source": [
        "total = 0\n",
        "for i, d in enumerate([en_train, en_test, en_dev]):\n",
        "    print(data_names[i])\n",
        "    print(d.Emotion.value_counts())\n",
        "    print('Total: {}'.format(len(d['Text'])))\n",
        "    print('\\n --------------------- \\n')\n",
        "    total += len(d)\n",
        "print('Total: {}'.format(total))\n",
        "print('\\n --------------------- \\n')"
      ],
      "execution_count": null,
      "outputs": [
        {
          "output_type": "stream",
          "text": [
            "Trainin data\n",
            "anger      2164\n",
            "fear       2114\n",
            "joy        2073\n",
            "sadness    1412\n",
            "Name: Emotion, dtype: int64\n",
            "Total: 7763\n",
            "\n",
            " --------------------- \n",
            "\n",
            "Test data\n",
            "anger      618\n",
            "fear       605\n",
            "joy        592\n",
            "sadness    404\n",
            "Name: Emotion, dtype: int64\n",
            "Total: 2219\n",
            "\n",
            " --------------------- \n",
            "\n",
            "Validation data\n",
            "anger      309\n",
            "fear       302\n",
            "joy        296\n",
            "sadness    201\n",
            "Name: Emotion, dtype: int64\n",
            "Total: 1108\n",
            "\n",
            " --------------------- \n",
            "\n",
            "Total: 11090\n",
            "\n",
            " --------------------- \n",
            "\n"
          ],
          "name": "stdout"
        }
      ]
    },
    {
      "cell_type": "code",
      "metadata": {
        "id": "OJXcdNi2tCMs"
      },
      "source": [
        ""
      ],
      "execution_count": null,
      "outputs": []
    }
  ]
}